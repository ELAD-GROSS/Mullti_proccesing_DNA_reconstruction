{
 "cells": [
  {
   "cell_type": "markdown",
   "source": [
    "# Tests"
   ],
   "metadata": {
    "collapsed": false
   }
  },
  {
   "cell_type": "code",
   "execution_count": 7,
   "outputs": [],
   "source": [
    "from Improvement.mr_evaluate import finding_avg_miss_rate_of_declassified_reads"
   ],
   "metadata": {
    "collapsed": false
   }
  },
  {
   "cell_type": "markdown",
   "source": [
    "# First Test"
   ],
   "metadata": {
    "collapsed": false
   }
  },
  {
   "cell_type": "code",
   "execution_count": 8,
   "outputs": [],
   "source": [
    "letter_amounts_to_padding_size = {2: 30, 3: 32}\n",
    "frequencies = [10, 20, 30, 40, 50, 60, 70, 80, 90, 100]\n",
    "read_size = 200\n",
    "data1 = finding_avg_miss_rate_of_declassified_reads(frequencies, letter_amounts_to_padding_size, read_size=read_size)"
   ],
   "metadata": {
    "collapsed": false
   }
  },
  {
   "cell_type": "markdown",
   "source": [
    "# Second Test"
   ],
   "metadata": {
    "collapsed": false
   }
  },
  {
   "cell_type": "code",
   "execution_count": 9,
   "outputs": [],
   "source": [
    "letter_amounts_to_padding_size = {2: 30, 3: 32}\n",
    "frequencies = [100, 150, 200, 250, 400]\n",
    "read_size = 500\n",
    "data2 = finding_avg_miss_rate_of_declassified_reads(frequencies, letter_amounts_to_padding_size, read_size=read_size)"
   ],
   "metadata": {
    "collapsed": false
   }
  },
  {
   "cell_type": "code",
   "execution_count": 10,
   "outputs": [
    {
     "data": {
      "text/plain": "{20.029: [0.0, 10, 2],\n 10.029: [0.0, 20, 2],\n 6.697: [0.000737632321217294, 30, 2],\n 5.029: [0.0038356615683125084, 40, 2],\n 4.029: [0.01510196329139121, 50, 2],\n 3.363: [0.0655380522665207, 60, 2],\n 2.887: [0.1502045797091753, 70, 2],\n 2.529: [0.33819349297862555, 80, 2],\n 2.253: [0.537351184926067, 90, 2],\n 2.029: [0.6860680441469689, 100, 2],\n 30.031799999999997: [0.0, 10, 3],\n 15.0318: [0.0, 20, 3],\n 10.0338: [0.0006322633691671616, 30, 3],\n 7.5318: [0.0027012110311584324, 40, 3],\n 6.0318: [0.00915266372108015, 50, 3],\n 5.0328: [0.019161686222572423, 60, 3],\n 4.3187999999999995: [0.047602386367789656, 70, 3],\n 3.7817999999999996: [0.09498185795385497, 80, 3],\n 3.3678: [0.13694272860772477, 90, 3],\n 3.0318: [0.20264907338742527, 100, 3]}"
     },
     "execution_count": 10,
     "metadata": {},
     "output_type": "execute_result"
    }
   ],
   "source": [
    "data1"
   ],
   "metadata": {
    "collapsed": false
   }
  },
  {
   "cell_type": "code",
   "execution_count": 11,
   "outputs": [
    {
     "data": {
      "text/plain": "{2.029: [0.004487345547206703, 100, 2],\n 1.363: [0.10879108745116305, 150, 2],\n 1.0290000000000001: [0.45350687435916337, 200, 2],\n 0.8290000000000001: [0.8117475071841542, 250, 2],\n 0.529: [0.8461786093161423, 400, 2],\n 3.0318: [0.0032519310208583203, 100, 3],\n 2.0328: [0.02138415020391861, 150, 3],\n 1.5318: [0.11403640801078178, 200, 3],\n 1.2318: [0.2786330580254484, 250, 3],\n 0.7818: [0.7163478581350755, 400, 3]}"
     },
     "execution_count": 11,
     "metadata": {},
     "output_type": "execute_result"
    }
   ],
   "source": [
    "data2"
   ],
   "metadata": {
    "collapsed": false
   }
  },
  {
   "cell_type": "code",
   "execution_count": 12,
   "outputs": [],
   "source": [
    "letter_amounts_to_padding_size = {2: 30, 3: 32}\n",
    "frequencies = [700, 800, 900]\n",
    "read_size = 1000\n",
    "data3 = finding_avg_miss_rate_of_declassified_reads(frequencies, letter_amounts_to_padding_size, read_size=read_size)"
   ],
   "metadata": {
    "collapsed": false
   }
  },
  {
   "cell_type": "code",
   "execution_count": 14,
   "outputs": [
    {
     "data": {
      "text/plain": "{0.315: [0.8673726438621105, 700, 2],\n 0.27899999999999997: [0.874086523259593, 800, 2],\n 0.253: [0.8753458916202427, 900, 2],\n 0.4608: [0.6436284825445574, 700, 3],\n 0.40679999999999994: [0.7366084829963998, 800, 3],\n 0.36779999999999996: [0.8186758060313677, 900, 3]}"
     },
     "execution_count": 14,
     "metadata": {},
     "output_type": "execute_result"
    }
   ],
   "source": [
    "data3"
   ],
   "metadata": {
    "collapsed": false
   }
  },
  {
   "cell_type": "code",
   "execution_count": 15,
   "outputs": [],
   "source": [
    "letter_amounts_to_padding_size = {2: 30, 3: 32}\n",
    "frequencies = [70, 80, 90]\n",
    "read_size = 100\n",
    "data4 = finding_avg_miss_rate_of_declassified_reads(frequencies, letter_amounts_to_padding_size, read_size=read_size)"
   ],
   "metadata": {
    "collapsed": false
   }
  },
  {
   "cell_type": "code",
   "execution_count": 16,
   "outputs": [
    {
     "data": {
      "text/plain": "{2.887: [0.6954762191777345, 70, 2],\n 2.529: [0.7659152927174783, 80, 2],\n 2.253: [0.8331934185096092, 90, 2],\n 4.3187999999999995: [0.5584079690477697, 70, 3],\n 3.7817999999999996: [0.6928705697923627, 80, 3],\n 3.3678: [0.7986506896158668, 90, 3]}"
     },
     "execution_count": 16,
     "metadata": {},
     "output_type": "execute_result"
    }
   ],
   "source": [
    "data4"
   ],
   "metadata": {
    "collapsed": false
   }
  },
  {
   "cell_type": "code",
   "execution_count": 25,
   "outputs": [
    {
     "data": {
      "text/plain": "         letters_amount  frequency  Enlargment  miss_rate\n20.0290               2         10     20.0290   0.000000\n10.0290               2         20     10.0290   0.000000\n6.6970                2         30      6.6970   0.000738\n5.0290                2         40      5.0290   0.003836\n4.0290                2         50      4.0290   0.015102\n3.3630                2         60      3.3630   0.065538\n2.8870                2         70      2.8870   0.150205\n2.5290                2         80      2.5290   0.338193\n2.2530                2         90      2.2530   0.537351\n2.0290                2        100      2.0290   0.686068\n30.0318               3         10     30.0318   0.000000\n15.0318               3         20     15.0318   0.000000\n10.0338               3         30     10.0338   0.000632\n7.5318                3         40      7.5318   0.002701\n6.0318                3         50      6.0318   0.009153\n5.0328                3         60      5.0328   0.019162\n4.3188                3         70      4.3188   0.047602\n3.7818                3         80      3.7818   0.094982\n3.3678                3         90      3.3678   0.136943\n3.0318                3        100      3.0318   0.202649",
      "text/html": "<div>\n<style scoped>\n    .dataframe tbody tr th:only-of-type {\n        vertical-align: middle;\n    }\n\n    .dataframe tbody tr th {\n        vertical-align: top;\n    }\n\n    .dataframe thead th {\n        text-align: right;\n    }\n</style>\n<table border=\"1\" class=\"dataframe\">\n  <thead>\n    <tr style=\"text-align: right;\">\n      <th></th>\n      <th>letters_amount</th>\n      <th>frequency</th>\n      <th>Enlargment</th>\n      <th>miss_rate</th>\n    </tr>\n  </thead>\n  <tbody>\n    <tr>\n      <th>20.0290</th>\n      <td>2</td>\n      <td>10</td>\n      <td>20.0290</td>\n      <td>0.000000</td>\n    </tr>\n    <tr>\n      <th>10.0290</th>\n      <td>2</td>\n      <td>20</td>\n      <td>10.0290</td>\n      <td>0.000000</td>\n    </tr>\n    <tr>\n      <th>6.6970</th>\n      <td>2</td>\n      <td>30</td>\n      <td>6.6970</td>\n      <td>0.000738</td>\n    </tr>\n    <tr>\n      <th>5.0290</th>\n      <td>2</td>\n      <td>40</td>\n      <td>5.0290</td>\n      <td>0.003836</td>\n    </tr>\n    <tr>\n      <th>4.0290</th>\n      <td>2</td>\n      <td>50</td>\n      <td>4.0290</td>\n      <td>0.015102</td>\n    </tr>\n    <tr>\n      <th>3.3630</th>\n      <td>2</td>\n      <td>60</td>\n      <td>3.3630</td>\n      <td>0.065538</td>\n    </tr>\n    <tr>\n      <th>2.8870</th>\n      <td>2</td>\n      <td>70</td>\n      <td>2.8870</td>\n      <td>0.150205</td>\n    </tr>\n    <tr>\n      <th>2.5290</th>\n      <td>2</td>\n      <td>80</td>\n      <td>2.5290</td>\n      <td>0.338193</td>\n    </tr>\n    <tr>\n      <th>2.2530</th>\n      <td>2</td>\n      <td>90</td>\n      <td>2.2530</td>\n      <td>0.537351</td>\n    </tr>\n    <tr>\n      <th>2.0290</th>\n      <td>2</td>\n      <td>100</td>\n      <td>2.0290</td>\n      <td>0.686068</td>\n    </tr>\n    <tr>\n      <th>30.0318</th>\n      <td>3</td>\n      <td>10</td>\n      <td>30.0318</td>\n      <td>0.000000</td>\n    </tr>\n    <tr>\n      <th>15.0318</th>\n      <td>3</td>\n      <td>20</td>\n      <td>15.0318</td>\n      <td>0.000000</td>\n    </tr>\n    <tr>\n      <th>10.0338</th>\n      <td>3</td>\n      <td>30</td>\n      <td>10.0338</td>\n      <td>0.000632</td>\n    </tr>\n    <tr>\n      <th>7.5318</th>\n      <td>3</td>\n      <td>40</td>\n      <td>7.5318</td>\n      <td>0.002701</td>\n    </tr>\n    <tr>\n      <th>6.0318</th>\n      <td>3</td>\n      <td>50</td>\n      <td>6.0318</td>\n      <td>0.009153</td>\n    </tr>\n    <tr>\n      <th>5.0328</th>\n      <td>3</td>\n      <td>60</td>\n      <td>5.0328</td>\n      <td>0.019162</td>\n    </tr>\n    <tr>\n      <th>4.3188</th>\n      <td>3</td>\n      <td>70</td>\n      <td>4.3188</td>\n      <td>0.047602</td>\n    </tr>\n    <tr>\n      <th>3.7818</th>\n      <td>3</td>\n      <td>80</td>\n      <td>3.7818</td>\n      <td>0.094982</td>\n    </tr>\n    <tr>\n      <th>3.3678</th>\n      <td>3</td>\n      <td>90</td>\n      <td>3.3678</td>\n      <td>0.136943</td>\n    </tr>\n    <tr>\n      <th>3.0318</th>\n      <td>3</td>\n      <td>100</td>\n      <td>3.0318</td>\n      <td>0.202649</td>\n    </tr>\n  </tbody>\n</table>\n</div>"
     },
     "execution_count": 25,
     "metadata": {},
     "output_type": "execute_result"
    }
   ],
   "source": [
    "import pandas as pd\n",
    "\n",
    "df = pd.DataFrame.from_dict(data1, orient='index', columns=['miss_rate', 'frequency', 'letters_amount'])\n",
    "df['Enlargment'] = df.index\n",
    "df = df[['letters_amount', 'frequency', 'Enlargment', 'miss_rate']]\n",
    "\n",
    "# Print the DataFrame\n",
    "df"
   ],
   "metadata": {
    "collapsed": false
   }
  },
  {
   "cell_type": "code",
   "execution_count": 26,
   "outputs": [
    {
     "data": {
      "text/plain": "        letters_amount  frequency  Enlargment  miss_rate\n2.8870               2         70      2.8870   0.695476\n2.5290               2         80      2.5290   0.765915\n2.2530               2         90      2.2530   0.833193\n4.3188               3         70      4.3188   0.558408\n3.7818               3         80      3.7818   0.692871\n3.3678               3         90      3.3678   0.798651",
      "text/html": "<div>\n<style scoped>\n    .dataframe tbody tr th:only-of-type {\n        vertical-align: middle;\n    }\n\n    .dataframe tbody tr th {\n        vertical-align: top;\n    }\n\n    .dataframe thead th {\n        text-align: right;\n    }\n</style>\n<table border=\"1\" class=\"dataframe\">\n  <thead>\n    <tr style=\"text-align: right;\">\n      <th></th>\n      <th>letters_amount</th>\n      <th>frequency</th>\n      <th>Enlargment</th>\n      <th>miss_rate</th>\n    </tr>\n  </thead>\n  <tbody>\n    <tr>\n      <th>2.8870</th>\n      <td>2</td>\n      <td>70</td>\n      <td>2.8870</td>\n      <td>0.695476</td>\n    </tr>\n    <tr>\n      <th>2.5290</th>\n      <td>2</td>\n      <td>80</td>\n      <td>2.5290</td>\n      <td>0.765915</td>\n    </tr>\n    <tr>\n      <th>2.2530</th>\n      <td>2</td>\n      <td>90</td>\n      <td>2.2530</td>\n      <td>0.833193</td>\n    </tr>\n    <tr>\n      <th>4.3188</th>\n      <td>3</td>\n      <td>70</td>\n      <td>4.3188</td>\n      <td>0.558408</td>\n    </tr>\n    <tr>\n      <th>3.7818</th>\n      <td>3</td>\n      <td>80</td>\n      <td>3.7818</td>\n      <td>0.692871</td>\n    </tr>\n    <tr>\n      <th>3.3678</th>\n      <td>3</td>\n      <td>90</td>\n      <td>3.3678</td>\n      <td>0.798651</td>\n    </tr>\n  </tbody>\n</table>\n</div>"
     },
     "execution_count": 26,
     "metadata": {},
     "output_type": "execute_result"
    }
   ],
   "source": [
    "\n",
    "df1 = pd.DataFrame.from_dict(data4, orient='index', columns=['miss_rate', 'frequency', 'letters_amount'])\n",
    "df1['Enlargment'] = df1.index\n",
    "df1 = df1[['letters_amount', 'frequency', 'Enlargment', 'miss_rate']]\n",
    "\n",
    "# Print the DataFrame\n",
    "df1"
   ],
   "metadata": {
    "collapsed": false
   }
  },
  {
   "cell_type": "markdown",
   "source": [
    "# need to add graphs:\n",
    "      1. for letters amount l run over frequencies and plot 2 graph of miss rate and enlarement\n",
    "      2. success rate for the new algorithm"
   ],
   "metadata": {
    "collapsed": false
   }
  },
  {
   "cell_type": "code",
   "execution_count": 30,
   "outputs": [
    {
     "name": "stderr",
     "output_type": "stream",
     "text": [
      "No artists with labels found to put in legend.  Note that artists whose label start with an underscore are ignored when legend() is called with no argument.\n"
     ]
    },
    {
     "data": {
      "text/plain": "<Figure size 640x480 with 1 Axes>",
      "image/png": "[encoded data removed]"
     },
     "metadata": {},
     "output_type": "display_data"
    }
   ],
   "source": [
    "\n",
    "import numpy as np\n",
    "import matplotlib.pyplot as plt\n",
    "\n",
    "# function for creating 2 plot lines on one graph\n",
    "# from list of the data as a list of tuples\n",
    "def plot_two_lines(data1, data2, title, x_label, y_label):\n",
    "    x1 = [x[0] for x in data1]\n",
    "    y1 = [x[1] for x in data1]\n",
    "    x2 = [x[0] for x in data2]\n",
    "    y2 = [x[1] for x in data2]\n",
    "    plt.plot(x1, y1)\n",
    "    plt.plot(x2, y2)\n",
    "    plt.title(title)\n",
    "    plt.xlabel(x_label)\n",
    "    plt.ylabel(y_label)\n",
    "    plt.legend()\n",
    "    plt.show()\n",
    "\n",
    "d1 = [(i,i) for i in range(10)]\n",
    "d2 = [(i,2*i) for i in range(10)]\n",
    "\n",
    "plot_two_lines(d1,d2,\"title\",'x1','y1')"
   ],
   "metadata": {
    "collapsed": false
   }
  },
  {
   "cell_type": "code",
   "execution_count": 1,
   "outputs": [],
   "source": [
    "\n"
   ],
   "metadata": {
    "collapsed": false
   }
  },
  {
   "cell_type": "code",
   "execution_count": null,
   "outputs": [],
   "source": [],
   "metadata": {
    "collapsed": false
   }
  }
 ],
 "metadata": {
  "kernelspec": {
   "display_name": "Python 3",
   "language": "python",
   "name": "python3"
  },
  "language_info": {
   "codemirror_mode": {
    "name": "ipython",
    "version": 2
   },
   "file_extension": ".py",
   "mimetype": "text/x-python",
   "name": "python",
   "nbconvert_exporter": "python",
   "pygments_lexer": "ipython2",
   "version": "2.7.6"
  }
 },
 "nbformat": 4,
 "nbformat_minor": 0
}
